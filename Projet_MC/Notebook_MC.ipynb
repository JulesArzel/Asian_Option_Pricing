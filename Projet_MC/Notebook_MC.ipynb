{
 "cells": [
  {
   "cell_type": "code",
   "execution_count": null,
   "metadata": {},
   "outputs": [],
   "source": [
    "# --- Cellule 1 : Importer la classe ---\n",
    "from monte_carlo_estimator import MonteCarloEstimator\n",
    "import numpy as np\n",
    "import matplotlib.pyplot as plt"
   ]
  },
  {
   "cell_type": "code",
   "execution_count": null,
   "metadata": {},
   "outputs": [],
   "source": [
    "# --- Cellule 2 : Instanciation et résultats ---\n",
    "# Création d'une instance avec les paramètres par défaut\n",
    "estimator = MonteCarloEstimator(T=1, K=1, n=100, sigma=0.25, S0=1)\n",
    "\n",
    "# Estimation classique par Monte Carlo (simulation des actifs)\n",
    "result_class = estimator.estim_class_G(1000)\n",
    "print(\"MC classique de G :\", result_class)\n",
    "\n",
    "# Calcul de l'espérance théorique de Y\n",
    "esp_Y_theo = estimator.compute_esp_Y_theoretical()\n",
    "print(\"Espérance théorique de Y :\", esp_Y_theo)\n",
    "\n",
    "# Estimation du coefficient b_optimal en traçant b en fonction du nombre de simulations\n",
    "b_values = [estimator.estimate_b_new(i) for i in range(1, 201)]\n",
    "plt.figure(figsize=(8, 4))\n",
    "plt.plot(b_values, marker='o')\n",
    "plt.title(\"Estimation de b (selon le nombre de simulations)\")\n",
    "plt.xlabel(\"Nombre de simulations\")\n",
    "plt.ylabel(\"b\")\n",
    "plt.grid(True)\n",
    "plt.show()\n",
    "\n",
    "# Choix de b_optimal (par exemple, pour i = 50)\n",
    "b_opt = b_values[49]\n",
    "print(\"b_opt (pour 50 simulations) =\", b_opt)\n",
    "\n",
    "# Estimation par variable de contrôle avec E(Y) exact\n",
    "result_control_exact = estimator.estim_control_exact_G(1000, b_opt, esp_Y_theo)\n",
    "print(\"MC contrôle (E(Y) exact) de G :\", result_control_exact)\n",
    "\n",
    "# Estimation classique via la fonction g(Z)\n",
    "result_class_gZ = estimator.estim_class_g_Z(1000)\n",
    "print(\"MC classique via g(Z) de G :\", result_class_gZ)\n",
    "\n",
    "# Estimation antithétique\n",
    "result_antithetic = estimator.estim_antith_G(1000)\n",
    "print(\"MC antithétique de G :\", result_antithetic)\n",
    "\n",
    "# Recherche du y_chapeau (pour l'échantillonnage préférentiel)\n",
    "y_values = np.linspace(0.156, 0.158, 100)\n",
    "prob_vals = np.array([abs(estimator.prob(y)) for y in y_values])\n",
    "plt.figure(figsize=(8, 4))\n",
    "plt.plot(y_values, prob_vals, marker='.')\n",
    "plt.title(\"Recherche de la racine de prob(y)\")\n",
    "plt.xlabel(\"y\")\n",
    "plt.ylabel(\"|prob(y)|\")\n",
    "plt.grid(True)\n",
    "plt.show()\n",
    "\n",
    "# D'après le graphe, on choisit y_chapeau ≈ 0.1572\n",
    "y_chapeau = 0.1572\n",
    "mu_opt, _ = estimator.vect_z(y_chapeau)\n",
    "print(\"mu_opt (les 5 premières valeurs) :\", mu_opt[:5])  # affichage partiel\n",
    "\n",
    "# Estimation par échantillonnage préférentiel\n",
    "result_pref = estimator.estim_pref_G(1000, mu_opt)\n",
    "print(\"MC échantillonnage préférentiel de G :\", result_pref)\n"
   ]
  }
 ],
 "metadata": {
  "language_info": {
   "name": "python"
  }
 },
 "nbformat": 4,
 "nbformat_minor": 2
}
